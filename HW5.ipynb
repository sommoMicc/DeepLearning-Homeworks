{
  "nbformat": 4,
  "nbformat_minor": 0,
  "metadata": {
    "colab": {
      "name": "HW5.ipynb",
      "provenance": [],
      "collapsed_sections": [],
      "include_colab_link": true
    },
    "kernelspec": {
      "name": "python3",
      "display_name": "Python 3"
    }
  },
  "cells": [
    {
      "cell_type": "markdown",
      "metadata": {
        "id": "view-in-github",
        "colab_type": "text"
      },
      "source": [
        "<a href=\"https://colab.research.google.com/github/sommoMicc/DeepLearning-Homeworks/blob/master/HW5.ipynb\" target=\"_parent\"><img src=\"https://colab.research.google.com/assets/colab-badge.svg\" alt=\"Open In Colab\"/></a>"
      ]
    },
    {
      "cell_type": "markdown",
      "metadata": {
        "id": "Vzk_94Ey_KZz",
        "colab_type": "text"
      },
      "source": [
        "# **HW5: Autoencoders**\n",
        "\n",
        "In this homework, we will explore how to develop a simple Autoencoder. As a dataset, we will use the MNIST dataset. It contains handwritten digits images.\n",
        "In the first part, we will learn how to develop a simple shallow autoencoder, then we will develop a deep version of it. Next, we will experiment with the application of a denoising autoencoder. Finally, we will experiment with sequential domains, considering the IMDB dataset, alredy used in HW4."
      ]
    },
    {
      "cell_type": "code",
      "metadata": {
        "id": "-SUqAWqAXRr1",
        "colab_type": "code",
        "colab": {}
      },
      "source": [
        "import tensorflow as tf\n",
        "from tensorflow import keras\n",
        "import numpy as np\n",
        "import pandas as pd\n",
        "import matplotlib.pyplot as plt\n",
        "import os"
      ],
      "execution_count": 0,
      "outputs": []
    },
    {
      "cell_type": "markdown",
      "metadata": {
        "id": "TJA-D-6h3D6b",
        "colab_type": "text"
      },
      "source": [
        "###Load Dataset\n",
        "We load the MNIST dataset, using tf.keras.datasets. The dataset contains 60,000 training images and 10,000 testing images.\n",
        "Each value is between 0 and 255, and represents a pixel in an image of size 28 x 28. We will normalize all values between 0 and 1, and we will flatten the 28x28 images into vectors of size 784.\n",
        "Finally, we will split the test set, in the test and validation set."
      ]
    },
    {
      "cell_type": "code",
      "metadata": {
        "id": "Mmt1Au8CX-ra",
        "colab_type": "code",
        "outputId": "8c6fe389-1cee-47d7-a60a-dfebd82e6600",
        "colab": {
          "base_uri": "https://localhost:8080/",
          "height": 52
        }
      },
      "source": [
        "(x_train, _), (x_test, _) = tf.keras.datasets.mnist.load_data()\n",
        "\n",
        "x_train = x_train.astype('float32') / 255\n",
        "x_test = x_test.astype('float32') / 255\n",
        "\n",
        "\n",
        "x_train = x_train.reshape((len(x_train), np.prod(x_train.shape[1:])))\n",
        "x_test = x_test.reshape((len(x_test), np.prod(x_test.shape[1:])))\n",
        "\n",
        "x_valid = x_train[:10000]\n",
        "x_train = x_train[10000:]"
      ],
      "execution_count": 0,
      "outputs": [
        {
          "output_type": "stream",
          "text": [
            "Downloading data from https://storage.googleapis.com/tensorflow/tf-keras-datasets/mnist.npz\n",
            "11493376/11490434 [==============================] - 0s 0us/step\n"
          ],
          "name": "stdout"
        }
      ]
    },
    {
      "cell_type": "markdown",
      "metadata": {
        "id": "H6KiNMUN9_ke",
        "colab_type": "text"
      },
      "source": [
        "##Singular Value Decomposition\n",
        "\n",
        "Principal component analysis (PCA) and singular value decomposition (SVD) are both classical linear dimensionality reduction methods that attempt to find linear combinations of features in the original high dimensional data matrix to construct a meaningful representation of the dataset.\n",
        "In this first part of the HW we will focus our attention on SVD decomposition. Indeed it is more numerical stable. Given a matrix X, the SVD decomposes a matrix into the product of two unitary matrices V and U and a rectangular diagonal matrix of singular values S:\n",
        "\n",
        "$$ X=V \\cdot S \\cdot U^T$$\n",
        "\n",
        "SVD is implemented in NumPy as np.linalg.svd. In our case the X matrix will represent the training set, where each row is a sample (therefore the number of columns will be the number of input features).\n",
        "\n",
        "Note that the X matrix, in our case, will have a huge number of rows (we have 50000 input samples) and only 784 columns. Therefore, to optimize the memory consumption we can compute the SVD of the covariance matrix. An interesting property of the SVD is that we can relate the decomposition of the covariance matrix $C= X^T \\cdot X$ to the decomposition of $X$. In fact\n",
        "\n",
        "$$ C= X^T \\cdot X = U \\cdot S \\cdot V^T \\cdot V\\cdot S \\cdot U^T  = U \\cdot S^2 \\cdot U^T$$\n",
        "\n",
        "Since we need just the matrix U to compute the compressed version of our data, this method will be very convenient. If you are using the Colab free plan, the quantity of available ram is not sufficient to compute the SVD of X, therefore computing the SVD of the covariance matrix turns out to be the best solution. "
      ]
    },
    {
      "cell_type": "code",
      "metadata": {
        "id": "ckF8X9KDOQ_9",
        "colab_type": "code",
        "colab": {}
      },
      "source": [
        "def svd_k(X, k):\n",
        "  # Compute covariance matrix\n",
        "  C = np.dot(X.T, X)\n",
        "  # SVD decomposition\n",
        "  U, s_sqr, U_T = np.linalg.svd(C, full_matrices=False)\n",
        "  # Limit the number columns of U to k\n",
        "  U_k=U[:,:k]\n",
        "  return U_k\n"
      ],
      "execution_count": 0,
      "outputs": []
    },
    {
      "cell_type": "markdown",
      "metadata": {
        "id": "pC6SJH7vzGYa",
        "colab_type": "text"
      },
      "source": [
        "Let's define the ENCODING_DIM, that will be the size of the compressed version of input data, and compute the compressed version of the training set and the test set.\n",
        "\n",
        "**To complete: What happens varying the ENCODING_DIM? test  and discuss the results in this cell**"
      ]
    },
    {
      "cell_type": "markdown",
      "metadata": {
        "id": "yS--XxGvnom8",
        "colab_type": "text"
      },
      "source": [
        "**Discussion:** I've tested some values of ENCODING_DIM. The lowest I tried was just one, which corresponds to taking the most important principal component of the decomposition. The reconstructed input consisted in the same image  repeated. We can see that the image is well centered, with a black background and a white (but blurried) object in the center (which looks like a 8 or a 9) ![alt text](https://drive.google.com/uc?export=download&id=1ODLrIzH9BIZuGfq5aT9ULFaV7Te7j1Mq)\n",
        "This means that, according to PCA, the most meaningful information is that the number itself is white and well centered on the image, while the background is black.\n",
        "\n",
        "With an increase in the number of features from 1 to 7, I started to have a significative distinction among the numbers, as we can see from the following image:\n",
        "![alt text](https://drive.google.com/uc?export=download&id=1KNsWEVSXu-wrymxLqmxpYJPQc5IFsmqY)\n",
        "Some numbers, like 7, 1, 0 and 9 looks distingushable, while the others not yet. But, in my opinion, this is quite impressive, because I'm using only 7 dimensions (instead of 784), which is less than 1/100 of the initial size. \n",
        "\n",
        "Using 50 dimensions, the reconstructed images looks a bit blurried but the number are very distinguishable, as we can see from the image below: \n",
        "![alt text](https://drive.google.com/uc?export=download&id=1nMfjjHrOENVvb6-RSJv7U1ozJljlHBnY)\n",
        "\n",
        "With the original value of 120 dimensions, images looks even more detailed:\n",
        "![](https://drive.google.com/uc?export=download&id=1AfNI4JoatAHNogpzQoUupfHRJXg7SdYL).\n",
        "\n",
        "The last value I tried was 240 dimensions:\n",
        "![](https://drive.google.com/uc?export=download&id=16n2m-LihYb0S3fk5-Di8KvxB0wk8txb6). Looking the images very closely, we can see that, with respect of 120 dimensions, the level of detail is higher. However, the gain in detail is quite low in my opinion, considering also that the number of dimensions (so the size of the representation) is doubled. \n",
        "\n",
        "This fact however is endemic of PCA, because first principal components capture the most significative informations of the data."
      ]
    },
    {
      "cell_type": "code",
      "metadata": {
        "id": "pIvHTxWpOzCX",
        "colab_type": "code",
        "colab": {}
      },
      "source": [
        "ENCODING_DIM = 120\n",
        "\n",
        "U_k=svd_k(x_train, ENCODING_DIM)\n",
        "\n",
        "x_training_pca = np.dot(x_train, U_k)\n",
        "x_test_pca = np.dot(x_test, U_k)"
      ],
      "execution_count": 0,
      "outputs": []
    },
    {
      "cell_type": "markdown",
      "metadata": {
        "id": "Vt-gKtEwzvr0",
        "colab_type": "text"
      },
      "source": [
        "Reconstruct the input and check how much information was lost due to the compression, by computing the mean squared error between the original input and the reconstruction, and by plotting the reconstructed images"
      ]
    },
    {
      "cell_type": "code",
      "metadata": {
        "id": "3GpWcHRkPBJV",
        "colab_type": "code",
        "colab": {}
      },
      "source": [
        "x_training_reco= np.dot(x_training_pca, U_k.T)\n",
        "x_test_reco= np.dot(x_test_pca, U_k.T)\n",
        "\n",
        "\n"
      ],
      "execution_count": 0,
      "outputs": []
    },
    {
      "cell_type": "code",
      "metadata": {
        "id": "1CPhgcMZPmtM",
        "colab_type": "code",
        "outputId": "6cdc5e7e-4803-4b26-fe27-d31dd04db63f",
        "colab": {
          "base_uri": "https://localhost:8080/",
          "height": 52
        }
      },
      "source": [
        "accuracy_train = ((x_train - x_training_reco)**2).mean()\n",
        "accuracy_test = ((x_test - x_test_reco)**2).mean()\n",
        "\n",
        "print(\"training mse: %.5f\" % ( accuracy_train))\n",
        "print(\"test mse: %.5f\" % ( accuracy_test))"
      ],
      "execution_count": 0,
      "outputs": [
        {
          "output_type": "stream",
          "text": [
            "training mse: 0.00464\n",
            "test mse: 0.00455\n"
          ],
          "name": "stdout"
        }
      ]
    },
    {
      "cell_type": "code",
      "metadata": {
        "id": "EuBw_l_Cgo1o",
        "colab_type": "code",
        "colab": {}
      },
      "source": [
        "def plot_img(n, input_data, decoded_imgs):\n",
        "  plt.figure(figsize=(20, 4))\n",
        "  for i in range(n):\n",
        "    # display original\n",
        "    ax = plt.subplot(2, n, i + 1)\n",
        "    plt.imshow(input_data[i].reshape(28, 28))\n",
        "    plt.gray()\n",
        "    ax.get_xaxis().set_visible(False)\n",
        "    ax.get_yaxis().set_visible(False)\n",
        "\n",
        "    # display reconstruction\n",
        "    ax = plt.subplot(2, n, i + 1 + n)\n",
        "    plt.imshow(decoded_imgs[i].reshape(28, 28))\n",
        "    plt.gray()\n",
        "    ax.get_xaxis().set_visible(False)\n",
        "    ax.get_yaxis().set_visible(False)\n",
        "  plt.show()"
      ],
      "execution_count": 0,
      "outputs": []
    },
    {
      "cell_type": "markdown",
      "metadata": {
        "id": "CfqN6d8-37mu",
        "colab_type": "text"
      },
      "source": [
        "Let's check how well the input can be reconstructed, by printing a few of the input images and the corresponding reconstructions. Obviously, all these evaluations have to be done on the test set.\n",
        "\n",
        "The first row of images shows input data, while the second one shows the reconstructions."
      ]
    },
    {
      "cell_type": "code",
      "metadata": {
        "id": "FICZjh2mgz_7",
        "colab_type": "code",
        "outputId": "6b981951-219b-4237-d73e-32d71c9b0184",
        "colab": {
          "base_uri": "https://localhost:8080/",
          "height": 248
        }
      },
      "source": [
        "plot_img(10, x_test, x_test_reco)"
      ],
      "execution_count": 0,
      "outputs": [
        {
          "output_type": "display_data",
          "data": {
            "image/png": "[encoded data removed]",
            "text/plain": [
              "<Figure size 1440x288 with 20 Axes>"
            ]
          },
          "metadata": {
            "tags": [],
            "needs_background": "light"
          }
        }
      ]
    },
    {
      "cell_type": "markdown",
      "metadata": {
        "id": "O7crlDsMGrBN",
        "colab_type": "text"
      },
      "source": [
        "## Exercise 5.1: Shallow Linear Autoencoder\n",
        "Let's define the model that consists of a single fully-connected neural layer. The hidden layer and the output layer act as the encoder and the decoder, respectively. Differently than the previous homework, instead of using Keras.Sequential(), we define the various parts of the model (encoder and decoder) separately and create the final model. \n",
        "\n",
        "**To complete: check the results and compare them with the results obtained by SVD. Add a cell  at the end of this section (after the result of the linear autoencoder) where you give an explanation of the relation between the results obtained  by the shallow linear autoencoder and the ones obtained by the SVD decomposition.**\n"
      ]
    },
    {
      "cell_type": "code",
      "metadata": {
        "id": "GfBJJLioaWJN",
        "colab_type": "code",
        "colab": {}
      },
      "source": [
        "ENCODING_DIM = 120\n",
        "\n",
        "input_img = tf.keras.layers.Input(shape=(784,))\n",
        "#Define the encoder...\n",
        "encoded = tf.keras.layers.Dense(ENCODING_DIM, activation='linear')(input_img)\n",
        "\n",
        "#...and the decoder...\n",
        "decoded = tf.keras.layers.Dense(784, activation='linear')(encoded)\n",
        "\n",
        "#and finally the autoencoder\n",
        "autoencoder = tf.keras.models.Model(input_img, decoded)\n",
        "\n",
        "# In order to visualize the learned encoding, define a model that computes the \n",
        "# two parts separately.\n",
        "encoder = tf.keras.models.Model(input_img, encoded)\n",
        "encoded_input = tf.keras.layers.Input(shape=(ENCODING_DIM,))\n",
        "decoder_layer = autoencoder.layers[-1]\n",
        "decoder = tf.keras.models.Model(encoded_input, decoder_layer(encoded_input))\n",
        "\n",
        "#Finally, let's call the compile method\n",
        "autoencoder.compile(optimizer=tf.keras.optimizers.Adam(learning_rate=0.01), loss='mse')\n"
      ],
      "execution_count": 0,
      "outputs": []
    },
    {
      "cell_type": "markdown",
      "metadata": {
        "id": "A_4H-OFzI4tA",
        "colab_type": "text"
      },
      "source": [
        "Print the model summary."
      ]
    },
    {
      "cell_type": "code",
      "metadata": {
        "id": "4gr3B9qoC3zQ",
        "colab_type": "code",
        "outputId": "c5b834b8-b1b2-4137-8784-2cfd2ac8de6b",
        "colab": {
          "base_uri": "https://localhost:8080/",
          "height": 260
        }
      },
      "source": [
        "autoencoder.summary()"
      ],
      "execution_count": 0,
      "outputs": [
        {
          "output_type": "stream",
          "text": [
            "Model: \"model\"\n",
            "_________________________________________________________________\n",
            "Layer (type)                 Output Shape              Param #   \n",
            "=================================================================\n",
            "input_1 (InputLayer)         [(None, 784)]             0         \n",
            "_________________________________________________________________\n",
            "dense (Dense)                (None, 120)               94200     \n",
            "_________________________________________________________________\n",
            "dense_1 (Dense)              (None, 784)               94864     \n",
            "=================================================================\n",
            "Total params: 189,064\n",
            "Trainable params: 189,064\n",
            "Non-trainable params: 0\n",
            "_________________________________________________________________\n"
          ],
          "name": "stdout"
        }
      ]
    },
    {
      "cell_type": "markdown",
      "metadata": {
        "id": "Cz3q7uSsKA2N",
        "colab_type": "text"
      },
      "source": [
        "Train the model."
      ]
    },
    {
      "cell_type": "code",
      "metadata": {
        "id": "Szm0L3I03-G9",
        "colab_type": "code",
        "outputId": "3ebe02c7-5195-45a0-e74a-c42b1b0833ce",
        "colab": {
          "base_uri": "https://localhost:8080/",
          "height": 537
        }
      },
      "source": [
        "history = autoencoder.fit(x_train, x_train, epochs=15, batch_size=512, shuffle=True, validation_data=(x_valid, x_valid))"
      ],
      "execution_count": 0,
      "outputs": [
        {
          "output_type": "stream",
          "text": [
            "Epoch 1/15\n",
            "98/98 [==============================] - 2s 17ms/step - loss: 0.0419 - val_loss: 0.0144\n",
            "Epoch 2/15\n",
            "98/98 [==============================] - 2s 15ms/step - loss: 0.0109 - val_loss: 0.0087\n",
            "Epoch 3/15\n",
            "98/98 [==============================] - 2s 16ms/step - loss: 0.0078 - val_loss: 0.0069\n",
            "Epoch 4/15\n",
            "98/98 [==============================] - 2s 15ms/step - loss: 0.0066 - val_loss: 0.0060\n",
            "Epoch 5/15\n",
            "98/98 [==============================] - 2s 16ms/step - loss: 0.0059 - val_loss: 0.0056\n",
            "Epoch 6/15\n",
            "98/98 [==============================] - 2s 15ms/step - loss: 0.0055 - val_loss: 0.0053\n",
            "Epoch 7/15\n",
            "98/98 [==============================] - 2s 16ms/step - loss: 0.0054 - val_loss: 0.0052\n",
            "Epoch 8/15\n",
            "98/98 [==============================] - 2s 16ms/step - loss: 0.0052 - val_loss: 0.0052\n",
            "Epoch 9/15\n",
            "98/98 [==============================] - 2s 16ms/step - loss: 0.0051 - val_loss: 0.0051\n",
            "Epoch 10/15\n",
            "98/98 [==============================] - 2s 16ms/step - loss: 0.0051 - val_loss: 0.0050\n",
            "Epoch 11/15\n",
            "98/98 [==============================] - 2s 15ms/step - loss: 0.0050 - val_loss: 0.0049\n",
            "Epoch 12/15\n",
            "98/98 [==============================] - 1s 15ms/step - loss: 0.0051 - val_loss: 0.0051\n",
            "Epoch 13/15\n",
            "98/98 [==============================] - 2s 15ms/step - loss: 0.0050 - val_loss: 0.0049\n",
            "Epoch 14/15\n",
            "98/98 [==============================] - 2s 15ms/step - loss: 0.0049 - val_loss: 0.0051\n",
            "Epoch 15/15\n",
            "98/98 [==============================] - 1s 15ms/step - loss: 0.0052 - val_loss: 0.0057\n"
          ],
          "name": "stdout"
        }
      ]
    },
    {
      "cell_type": "markdown",
      "metadata": {
        "id": "yfoaQXZgKJZm",
        "colab_type": "text"
      },
      "source": [
        "Plot the loss and the accuracy curves, and the accuracy on the test set."
      ]
    },
    {
      "cell_type": "code",
      "metadata": {
        "id": "15ZjvbTGDB8i",
        "colab_type": "code",
        "colab": {}
      },
      "source": [
        "def plot_loss(history):\n",
        "  plt.figure(figsize=(10,6))\n",
        "  plt.plot(history.epoch,history.history['loss'])\n",
        "  plt.plot(history.epoch,history.history['val_loss'])\n",
        "  plt.title('loss')"
      ],
      "execution_count": 0,
      "outputs": []
    },
    {
      "cell_type": "code",
      "metadata": {
        "id": "6Vb4ilH-DDyS",
        "colab_type": "code",
        "outputId": "7cb618cc-3076-4e72-a995-7c4973eccc28",
        "colab": {
          "base_uri": "https://localhost:8080/",
          "height": 425
        }
      },
      "source": [
        "plot_loss(history)\n",
        "\n",
        "scores = autoencoder.evaluate(x_test, x_test, verbose=2)\n",
        "print(\"test mse: %.5f\" % (scores))"
      ],
      "execution_count": 0,
      "outputs": [
        {
          "output_type": "stream",
          "text": [
            "313/313 - 0s - loss: 0.0056\n",
            "test mse: 0.00561\n"
          ],
          "name": "stdout"
        },
        {
          "output_type": "display_data",
          "data": {
            "image/png": "[encoded data removed]",
            "text/plain": [
              "<Figure size 720x432 with 1 Axes>"
            ]
          },
          "metadata": {
            "tags": [],
            "needs_background": "light"
          }
        }
      ]
    },
    {
      "cell_type": "code",
      "metadata": {
        "id": "XgG5Yt9ddmq-",
        "colab_type": "code",
        "outputId": "9fe19db1-b2a5-4f97-9112-14c7311709ed",
        "colab": {
          "base_uri": "https://localhost:8080/",
          "height": 248
        }
      },
      "source": [
        "encoded_imgs = encoder.predict(x_test)\n",
        "decoded_imgs = decoder.predict(encoded_imgs)\n",
        "\n",
        "plot_img(10, x_test, decoded_imgs)\n"
      ],
      "execution_count": 0,
      "outputs": [
        {
          "output_type": "display_data",
          "data": {
            "image/png": "[encoded data removed]",
            "text/plain": [
              "<Figure size 1440x288 with 20 Axes>"
            ]
          },
          "metadata": {
            "tags": [],
            "needs_background": "light"
          }
        }
      ]
    },
    {
      "cell_type": "markdown",
      "metadata": {
        "id": "DRDCFV6Lyf6f",
        "colab_type": "text"
      },
      "source": [
        "**Discussion**:\n",
        "Here below I reported the two different results obtained from PCA (SVD) and _Shallow linear autoencoders_ on the same test set and using the same number of dimensions (120).\n",
        "\n",
        "_PCA_ (test mse: 0.00455)\n",
        "![PCA](https://drive.google.com/uc?export=download&id=1AfNI4JoatAHNogpzQoUupfHRJXg7SdYL)\n",
        "_shallow linear autoencoders_ (test mse: 0.00476)\n",
        "![Shallow linear autoencoders](https://drive.google.com/uc?export=download&id=1w9lR3TS6Hd4yVf585VW4UJuX5HKVlXVd)\n",
        "\n",
        "From the images it's evident that the obtained results are very similar, and also the Mean Squared Errors computed on the test set have more or less the same value. This is because PCA and Shallow Linear Autoencoders are strictly related. In fact, given a feed forward neural network with only one hidden layer and a linear activation function $\\sigma(x) = x$, the output $o$ is computed as following:\n",
        "$$\n",
        "o = W_o \\cdot W_i \\cdot x\n",
        "$$\n",
        "where $x$ is the input, $W_i$ are the weights of the input->hidden connection and $W_o$ the hidden->output ones. Since $o = x$, we derive that $x = W_o \\cdot W_i \\cdot x$, so it must be that $W_i = W_o^T$.\n",
        "Also, since the encoding of the input is the output of the hidden layer, it becomes:\n",
        "$enc(x) = W_i \\cdot x$, and the reconstructed input $\\hat{x} = W_o \\cdot enc(x) = W_i^T \\cdot enc(x)$.\n",
        "\n",
        "\n",
        "The PCA decomposition computes the encoded representation of the input as $enc(x) = U \\cdot x$ and the reconstructed version of the input as $\\hat{x} = U^T enc(x)$. \n",
        "\n",
        "Now, if we set $W_i = U$, we have that the two methods described are equivalent, in the sense that do essentially the same ting."
      ]
    },
    {
      "cell_type": "markdown",
      "metadata": {
        "id": "BhhQcerS4Xm0",
        "colab_type": "text"
      },
      "source": [
        "##Exercise  5.2: Shallow non-linear autoencoders\n",
        "\n",
        "**To complete: replicate the code of exercise 5.1 but in this case, instead of using linear activation functions use non-linear ones. Choose the most appropriate non-linear function, and motivate your choice. Then discuss the results in relation to those obtained in Exercise 5.1.**\n"
      ]
    },
    {
      "cell_type": "code",
      "metadata": {
        "id": "1wusfZNg8BlH",
        "colab_type": "code",
        "colab": {}
      },
      "source": [
        "ENCODING_DIM = 120\n",
        "\n",
        "input_img = tf.keras.layers.Input(shape=(784,))\n",
        "#Define the encoder...\n",
        "encoded = tf.keras.layers.Dense(ENCODING_DIM, activation='sigmoid')(input_img)\n",
        "\n",
        "#...and the decoder...\n",
        "decoded = tf.keras.layers.Dense(784, activation='sigmoid')(encoded)\n",
        "\n",
        "#and finally the autoencoder\n",
        "autoencoder = tf.keras.models.Model(input_img, decoded)\n",
        "\n",
        "# In order to visualize the learned encoding, define a model that computes the \n",
        "# two parts separately.\n",
        "encoder = tf.keras.models.Model(input_img, encoded)\n",
        "encoded_input = tf.keras.layers.Input(shape=(ENCODING_DIM,))\n",
        "decoder_layer = autoencoder.layers[-1]\n",
        "decoder = tf.keras.models.Model(encoded_input, decoder_layer(encoded_input))\n",
        "\n",
        "#Finally, let's call the compile method\n",
        "autoencoder.compile(optimizer=tf.keras.optimizers.Adam(learning_rate=0.01), loss='mse')"
      ],
      "execution_count": 0,
      "outputs": []
    },
    {
      "cell_type": "code",
      "metadata": {
        "id": "tG9u1UGl8RgV",
        "colab_type": "code",
        "outputId": "e13242a3-37e5-4fa9-c6c0-b1da5c54b067",
        "colab": {
          "base_uri": "https://localhost:8080/",
          "height": 537
        }
      },
      "source": [
        "history = autoencoder.fit(x_train, x_train, epochs=15, batch_size=512, shuffle=True, validation_data=(x_valid, x_valid))"
      ],
      "execution_count": 0,
      "outputs": [
        {
          "output_type": "stream",
          "text": [
            "Epoch 1/15\n",
            "98/98 [==============================] - 2s 17ms/step - loss: 0.0553 - val_loss: 0.0357\n",
            "Epoch 2/15\n",
            "98/98 [==============================] - 2s 16ms/step - loss: 0.0286 - val_loss: 0.0227\n",
            "Epoch 3/15\n",
            "98/98 [==============================] - 2s 16ms/step - loss: 0.0194 - val_loss: 0.0164\n",
            "Epoch 4/15\n",
            "98/98 [==============================] - 2s 16ms/step - loss: 0.0147 - val_loss: 0.0129\n",
            "Epoch 5/15\n",
            "98/98 [==============================] - 2s 16ms/step - loss: 0.0118 - val_loss: 0.0106\n",
            "Epoch 6/15\n",
            "98/98 [==============================] - 2s 16ms/step - loss: 0.0099 - val_loss: 0.0091\n",
            "Epoch 7/15\n",
            "98/98 [==============================] - 2s 16ms/step - loss: 0.0086 - val_loss: 0.0080\n",
            "Epoch 8/15\n",
            "98/98 [==============================] - 2s 16ms/step - loss: 0.0075 - val_loss: 0.0071\n",
            "Epoch 9/15\n",
            "98/98 [==============================] - 2s 16ms/step - loss: 0.0067 - val_loss: 0.0064\n",
            "Epoch 10/15\n",
            "98/98 [==============================] - 2s 16ms/step - loss: 0.0061 - val_loss: 0.0058\n",
            "Epoch 11/15\n",
            "98/98 [==============================] - 2s 16ms/step - loss: 0.0055 - val_loss: 0.0054\n",
            "Epoch 12/15\n",
            "98/98 [==============================] - 2s 16ms/step - loss: 0.0051 - val_loss: 0.0050\n",
            "Epoch 13/15\n",
            "98/98 [==============================] - 2s 16ms/step - loss: 0.0048 - val_loss: 0.0047\n",
            "Epoch 14/15\n",
            "98/98 [==============================] - 2s 16ms/step - loss: 0.0045 - val_loss: 0.0045\n",
            "Epoch 15/15\n",
            "98/98 [==============================] - 2s 16ms/step - loss: 0.0043 - val_loss: 0.0043\n"
          ],
          "name": "stdout"
        }
      ]
    },
    {
      "cell_type": "code",
      "metadata": {
        "id": "kGwS2GS88SFx",
        "colab_type": "code",
        "outputId": "512b25f5-0bd5-44b8-f8da-97fb671eb368",
        "colab": {
          "base_uri": "https://localhost:8080/",
          "height": 425
        }
      },
      "source": [
        "plot_loss(history)\n",
        "\n",
        "scores = autoencoder.evaluate(x_test, x_test, verbose=2)\n",
        "print(\"test mse: %.5f\" % (scores))"
      ],
      "execution_count": 0,
      "outputs": [
        {
          "output_type": "stream",
          "text": [
            "313/313 - 0s - loss: 0.0041\n",
            "test mse: 0.00415\n"
          ],
          "name": "stdout"
        },
        {
          "output_type": "display_data",
          "data": {
            "image/png": "[encoded data removed]",
            "text/plain": [
              "<Figure size 720x432 with 1 Axes>"
            ]
          },
          "metadata": {
            "tags": [],
            "needs_background": "light"
          }
        }
      ]
    },
    {
      "cell_type": "code",
      "metadata": {
        "id": "5Sw-dovM8VwR",
        "colab_type": "code",
        "outputId": "923e5f4f-676c-42db-e69a-01e7991378f9",
        "colab": {
          "base_uri": "https://localhost:8080/",
          "height": 248
        }
      },
      "source": [
        "encoded_imgs = encoder.predict(x_test)\n",
        "decoded_imgs = decoder.predict(encoded_imgs)\n",
        "\n",
        "plot_img(10, x_test, decoded_imgs)"
      ],
      "execution_count": 0,
      "outputs": [
        {
          "output_type": "display_data",
          "data": {
            "image/png": "[encoded data removed]",
            "text/plain": [
              "<Figure size 1440x288 with 20 Axes>"
            ]
          },
          "metadata": {
            "tags": [],
            "needs_background": "light"
          }
        }
      ]
    },
    {
      "cell_type": "markdown",
      "metadata": {
        "id": "eDulYC_c-Aeo",
        "colab_type": "text"
      },
      "source": [
        "The obtained results are reported in the two images below:\n",
        "\n",
        "_shallow linear autoencoders_ (test mse: 0.00479)\n",
        "![Shallow linear autoencoders](https://drive.google.com/uc?export=download&id=1w9lR3TS6Hd4yVf585VW4UJuX5HKVlXVd)\n",
        "\n",
        "_shallow non linear autoencoders_ (test mse: 0.00428)\n",
        "![alt text](https://drive.google.com/uc?export=download&id=197pPyKGIrvCDwvlkq7-x747vOgZTQ75n)\n",
        "\n",
        "As we can see, altough the test Mean Squared Errors are similar, the non linear autoencoder provides a better representation of the input, in the sense that decoded images look more detailed (less blurred). This is because, using a non linear activation function, the nonlinear autoencoder can model a more complex space, which is (maybe) closer to the manifold of the input data.\n",
        "\n",
        "Regarding the activation function, I tried various options: _tanh_, _sigmoid_, _ReLu_. In the end, I choose _sigmoid_ because that gave me the better result: the other two tend to overfit more and to give more blurred images."
      ]
    },
    {
      "cell_type": "markdown",
      "metadata": {
        "id": "UjzlA8YV4ux5",
        "colab_type": "text"
      },
      "source": [
        "## Exercise 5.3: Deep Autoencoder\n",
        "**To_complete: Define a deep version of the Autoencoder defined above. The autoencoder has to use at least 5 layers. The model will use $n$ layers for encoding, and n-1 for decoding. The layers sizes of the encoding part decrease at each layer (e.g., 748->128->64, where 64 is the encoding dim). The decoding part layers dimensions progression turns out to be mirrored (i.e, 128->748, the resulting structure recall an hourglass).\n",
        "Similarly than what did above, print the model summary, the loss curve during the training, the achieved loss on the test set, and some input image with the correspondent decoding.**\n"
      ]
    },
    {
      "cell_type": "code",
      "metadata": {
        "id": "S6O7Bq8C4udX",
        "colab_type": "code",
        "outputId": "0b20fc04-bff4-490b-e9cb-85e156d1182e",
        "colab": {
          "base_uri": "https://localhost:8080/",
          "height": 173
        }
      },
      "source": [
        "input_img = tf.keras.layers.Input(shape=(784,))\n",
        "deep_epochs_number = 250\n",
        "\n",
        "deep_nonlinear_encoder_activations = ['sigmoid','selu', 'selu', 'selu']\n",
        "deep_nonlinear_decoder_activations = ['selu','selu','selu','sigmoid']\n",
        "\n",
        "\n",
        "def deep_autoencoder(steps, input_img, encoder_activations, decoder_activations):\n",
        "  img_size = steps[0]\n",
        "  encoders = []\n",
        "\n",
        "  prev_layer = input_img\n",
        "\n",
        "  for i in range(1,len(steps)):\n",
        "    step = steps[i]\n",
        "    act = encoder_activations[(i-1) % len(encoder_activations)]\n",
        "    print(\"Encoder #%d: (%d, act: %s)\" % (i-1, step, act))\n",
        "    encoders.append(tf.keras.layers.Dense(step, activation=act)(prev_layer))\n",
        "    prev_layer = encoders[-1]\n",
        "  \n",
        "  decoders = []\n",
        "  \n",
        "  steps.reverse()\n",
        "  steps.pop(0)  # Remove the size of the final representation\n",
        "\n",
        "  print(\"---\")\n",
        "  for i in range(len(steps)):\n",
        "    step = steps[i]\n",
        "    act = decoder_activations[i % len(encoder_activations)]\n",
        "\n",
        "    print(\"Decoder #%d: (%d, act: %s)\" % (i, step, act))\n",
        "\n",
        "    decoders.append(tf.keras.layers.Dense(step, activation=act)(prev_layer))\n",
        "    prev_layer = decoders[-1]\n",
        "\n",
        "  autoencoder = tf.keras.models.Model(input_img, decoders[-1])\n",
        "  return autoencoder\n",
        "\n",
        "\n",
        "\n",
        "\n",
        "autoencoder = deep_autoencoder(\n",
        "    [784,512,256,120,60],\n",
        "    input_img,\n",
        "    deep_nonlinear_encoder_activations,\n",
        "    deep_nonlinear_decoder_activations\n",
        "    )\n",
        "autoencoder.compile(optimizer='adam', loss='mse')"
      ],
      "execution_count": 0,
      "outputs": [
        {
          "output_type": "stream",
          "text": [
            "Encoder #0: (512, act: sigmoid)\n",
            "Encoder #1: (256, act: selu)\n",
            "Encoder #2: (120, act: selu)\n",
            "Encoder #3: (60, act: selu)\n",
            "---\n",
            "Decoder #0: (120, act: selu)\n",
            "Decoder #1: (256, act: selu)\n",
            "Decoder #2: (512, act: selu)\n",
            "Decoder #3: (784, act: sigmoid)\n"
          ],
          "name": "stdout"
        }
      ]
    },
    {
      "cell_type": "code",
      "metadata": {
        "id": "4XL8uh9MFV03",
        "colab_type": "code",
        "outputId": "bf677e62-5bd5-4339-fb98-0325daae2bb9",
        "colab": {
          "base_uri": "https://localhost:8080/",
          "height": 468
        }
      },
      "source": [
        "autoencoder.summary()"
      ],
      "execution_count": 0,
      "outputs": [
        {
          "output_type": "stream",
          "text": [
            "Model: \"model_6\"\n",
            "_________________________________________________________________\n",
            "Layer (type)                 Output Shape              Param #   \n",
            "=================================================================\n",
            "input_5 (InputLayer)         [(None, 784)]             0         \n",
            "_________________________________________________________________\n",
            "dense_4 (Dense)              (None, 512)               401920    \n",
            "_________________________________________________________________\n",
            "dense_5 (Dense)              (None, 256)               131328    \n",
            "_________________________________________________________________\n",
            "dense_6 (Dense)              (None, 120)               30840     \n",
            "_________________________________________________________________\n",
            "dense_7 (Dense)              (None, 60)                7260      \n",
            "_________________________________________________________________\n",
            "dense_8 (Dense)              (None, 120)               7320      \n",
            "_________________________________________________________________\n",
            "dense_9 (Dense)              (None, 256)               30976     \n",
            "_________________________________________________________________\n",
            "dense_10 (Dense)             (None, 512)               131584    \n",
            "_________________________________________________________________\n",
            "dense_11 (Dense)             (None, 784)               402192    \n",
            "=================================================================\n",
            "Total params: 1,143,420\n",
            "Trainable params: 1,143,420\n",
            "Non-trainable params: 0\n",
            "_________________________________________________________________\n"
          ],
          "name": "stdout"
        }
      ]
    },
    {
      "cell_type": "code",
      "metadata": {
        "id": "ITsWoDrJ4uZy",
        "colab_type": "code",
        "outputId": "3387f4f3-941c-4eb0-e8cb-c876b3715657",
        "colab": {
          "base_uri": "https://localhost:8080/",
          "height": 1000
        }
      },
      "source": [
        "history = autoencoder.fit(x_train, x_train, epochs=deep_epochs_number, batch_size=512, callbacks=[tf.keras.callbacks.EarlyStopping(monitor='val_loss', patience=10)], shuffle=True, validation_data=(x_valid, x_valid))"
      ],
      "execution_count": 0,
      "outputs": [
        {
          "output_type": "stream",
          "text": [
            "Epoch 1/250\n",
            "98/98 [==============================] - 7s 75ms/step - loss: 0.0626 - val_loss: 0.0386\n",
            "Epoch 2/250\n",
            "98/98 [==============================] - 7s 72ms/step - loss: 0.0320 - val_loss: 0.0267\n",
            "Epoch 3/250\n",
            "98/98 [==============================] - 7s 72ms/step - loss: 0.0233 - val_loss: 0.0200\n",
            "Epoch 4/250\n",
            "98/98 [==============================] - 7s 73ms/step - loss: 0.0184 - val_loss: 0.0166\n",
            "Epoch 5/250\n",
            "98/98 [==============================] - 7s 73ms/step - loss: 0.0156 - val_loss: 0.0143\n",
            "Epoch 6/250\n",
            "98/98 [==============================] - 7s 73ms/step - loss: 0.0136 - val_loss: 0.0126\n",
            "Epoch 7/250\n",
            "98/98 [==============================] - 7s 74ms/step - loss: 0.0120 - val_loss: 0.0114\n",
            "Epoch 8/250\n",
            "98/98 [==============================] - 7s 73ms/step - loss: 0.0110 - val_loss: 0.0104\n",
            "Epoch 9/250\n",
            "98/98 [==============================] - 7s 73ms/step - loss: 0.0100 - val_loss: 0.0097\n",
            "Epoch 10/250\n",
            "98/98 [==============================] - 7s 74ms/step - loss: 0.0093 - val_loss: 0.0090\n",
            "Epoch 11/250\n",
            "98/98 [==============================] - 7s 73ms/step - loss: 0.0088 - val_loss: 0.0085\n",
            "Epoch 12/250\n",
            "98/98 [==============================] - 7s 73ms/step - loss: 0.0084 - val_loss: 0.0081\n",
            "Epoch 13/250\n",
            "98/98 [==============================] - 7s 73ms/step - loss: 0.0080 - val_loss: 0.0079\n",
            "Epoch 14/250\n",
            "98/98 [==============================] - 7s 73ms/step - loss: 0.0076 - val_loss: 0.0075\n",
            "Epoch 15/250\n",
            "98/98 [==============================] - 7s 73ms/step - loss: 0.0073 - val_loss: 0.0073\n",
            "Epoch 16/250\n",
            "98/98 [==============================] - 7s 73ms/step - loss: 0.0070 - val_loss: 0.0070\n",
            "Epoch 17/250\n",
            "98/98 [==============================] - 7s 74ms/step - loss: 0.0068 - val_loss: 0.0067\n",
            "Epoch 18/250\n",
            "98/98 [==============================] - 7s 73ms/step - loss: 0.0065 - val_loss: 0.0066\n",
            "Epoch 19/250\n",
            "98/98 [==============================] - 7s 73ms/step - loss: 0.0064 - val_loss: 0.0063\n",
            "Epoch 20/250\n",
            "98/98 [==============================] - 7s 73ms/step - loss: 0.0062 - val_loss: 0.0063\n",
            "Epoch 21/250\n",
            "98/98 [==============================] - 7s 73ms/step - loss: 0.0060 - val_loss: 0.0061\n",
            "Epoch 22/250\n",
            "98/98 [==============================] - 7s 73ms/step - loss: 0.0059 - val_loss: 0.0059\n",
            "Epoch 23/250\n",
            "98/98 [==============================] - 7s 74ms/step - loss: 0.0057 - val_loss: 0.0058\n",
            "Epoch 24/250\n",
            "98/98 [==============================] - 7s 73ms/step - loss: 0.0055 - val_loss: 0.0056\n",
            "Epoch 25/250\n",
            "98/98 [==============================] - 7s 73ms/step - loss: 0.0054 - val_loss: 0.0056\n",
            "Epoch 26/250\n",
            "98/98 [==============================] - 7s 73ms/step - loss: 0.0053 - val_loss: 0.0054\n",
            "Epoch 27/250\n",
            "98/98 [==============================] - 7s 73ms/step - loss: 0.0052 - val_loss: 0.0053\n",
            "Epoch 28/250\n",
            "98/98 [==============================] - 7s 73ms/step - loss: 0.0051 - val_loss: 0.0053\n",
            "Epoch 29/250\n",
            "98/98 [==============================] - 7s 75ms/step - loss: 0.0050 - val_loss: 0.0051\n",
            "Epoch 30/250\n",
            "98/98 [==============================] - 7s 73ms/step - loss: 0.0049 - val_loss: 0.0051\n",
            "Epoch 31/250\n",
            "98/98 [==============================] - 7s 73ms/step - loss: 0.0048 - val_loss: 0.0049\n",
            "Epoch 32/250\n",
            "98/98 [==============================] - 7s 73ms/step - loss: 0.0047 - val_loss: 0.0050\n",
            "Epoch 33/250\n",
            "98/98 [==============================] - 7s 73ms/step - loss: 0.0046 - val_loss: 0.0049\n",
            "Epoch 34/250\n",
            "98/98 [==============================] - 7s 74ms/step - loss: 0.0046 - val_loss: 0.0048\n",
            "Epoch 35/250\n",
            "98/98 [==============================] - 7s 73ms/step - loss: 0.0045 - val_loss: 0.0047\n",
            "Epoch 36/250\n",
            "98/98 [==============================] - 7s 73ms/step - loss: 0.0044 - val_loss: 0.0046\n",
            "Epoch 37/250\n",
            "98/98 [==============================] - 7s 73ms/step - loss: 0.0043 - val_loss: 0.0046\n",
            "Epoch 38/250\n",
            "98/98 [==============================] - 7s 73ms/step - loss: 0.0043 - val_loss: 0.0046\n",
            "Epoch 39/250\n",
            "98/98 [==============================] - 7s 74ms/step - loss: 0.0042 - val_loss: 0.0044\n",
            "Epoch 40/250\n",
            "98/98 [==============================] - 7s 73ms/step - loss: 0.0042 - val_loss: 0.0044\n",
            "Epoch 41/250\n",
            "98/98 [==============================] - 7s 74ms/step - loss: 0.0041 - val_loss: 0.0044\n",
            "Epoch 42/250\n",
            "98/98 [==============================] - 7s 75ms/step - loss: 0.0041 - val_loss: 0.0044\n",
            "Epoch 43/250\n",
            "98/98 [==============================] - 7s 74ms/step - loss: 0.0040 - val_loss: 0.0044\n",
            "Epoch 44/250\n",
            "98/98 [==============================] - 7s 75ms/step - loss: 0.0040 - val_loss: 0.0043\n",
            "Epoch 45/250\n",
            "98/98 [==============================] - 7s 73ms/step - loss: 0.0039 - val_loss: 0.0042\n",
            "Epoch 46/250\n",
            "98/98 [==============================] - 7s 73ms/step - loss: 0.0039 - val_loss: 0.0043\n",
            "Epoch 47/250\n",
            "98/98 [==============================] - 7s 73ms/step - loss: 0.0038 - val_loss: 0.0042\n",
            "Epoch 48/250\n",
            "98/98 [==============================] - 7s 73ms/step - loss: 0.0038 - val_loss: 0.0042\n",
            "Epoch 49/250\n",
            "98/98 [==============================] - 7s 73ms/step - loss: 0.0038 - val_loss: 0.0041\n",
            "Epoch 50/250\n",
            "98/98 [==============================] - 7s 73ms/step - loss: 0.0037 - val_loss: 0.0042\n",
            "Epoch 51/250\n",
            "98/98 [==============================] - 7s 73ms/step - loss: 0.0037 - val_loss: 0.0041\n",
            "Epoch 52/250\n",
            "98/98 [==============================] - 7s 73ms/step - loss: 0.0037 - val_loss: 0.0040\n",
            "Epoch 53/250\n",
            "98/98 [==============================] - 7s 73ms/step - loss: 0.0037 - val_loss: 0.0040\n",
            "Epoch 54/250\n",
            "98/98 [==============================] - 7s 73ms/step - loss: 0.0036 - val_loss: 0.0040\n",
            "Epoch 55/250\n",
            "98/98 [==============================] - 7s 74ms/step - loss: 0.0036 - val_loss: 0.0040\n",
            "Epoch 56/250\n",
            "98/98 [==============================] - 7s 73ms/step - loss: 0.0035 - val_loss: 0.0040\n",
            "Epoch 57/250\n",
            "98/98 [==============================] - 7s 73ms/step - loss: 0.0035 - val_loss: 0.0039\n",
            "Epoch 58/250\n",
            "98/98 [==============================] - 7s 73ms/step - loss: 0.0035 - val_loss: 0.0039\n",
            "Epoch 59/250\n",
            "98/98 [==============================] - 7s 74ms/step - loss: 0.0035 - val_loss: 0.0039\n",
            "Epoch 60/250\n",
            "98/98 [==============================] - 7s 74ms/step - loss: 0.0034 - val_loss: 0.0038\n",
            "Epoch 61/250\n",
            "98/98 [==============================] - 7s 73ms/step - loss: 0.0034 - val_loss: 0.0039\n",
            "Epoch 62/250\n",
            "98/98 [==============================] - 7s 74ms/step - loss: 0.0034 - val_loss: 0.0039\n",
            "Epoch 63/250\n",
            "98/98 [==============================] - 7s 73ms/step - loss: 0.0034 - val_loss: 0.0038\n",
            "Epoch 64/250\n",
            "98/98 [==============================] - 7s 73ms/step - loss: 0.0034 - val_loss: 0.0038\n",
            "Epoch 65/250\n",
            "98/98 [==============================] - 7s 73ms/step - loss: 0.0034 - val_loss: 0.0038\n",
            "Epoch 66/250\n",
            "98/98 [==============================] - 7s 73ms/step - loss: 0.0033 - val_loss: 0.0039\n",
            "Epoch 67/250\n",
            "98/98 [==============================] - 7s 74ms/step - loss: 0.0033 - val_loss: 0.0038\n",
            "Epoch 68/250\n",
            "98/98 [==============================] - 7s 73ms/step - loss: 0.0033 - val_loss: 0.0037\n",
            "Epoch 69/250\n",
            "98/98 [==============================] - 7s 73ms/step - loss: 0.0032 - val_loss: 0.0037\n",
            "Epoch 70/250\n",
            "98/98 [==============================] - 7s 73ms/step - loss: 0.0032 - val_loss: 0.0037\n",
            "Epoch 71/250\n",
            "98/98 [==============================] - 7s 75ms/step - loss: 0.0032 - val_loss: 0.0037\n",
            "Epoch 72/250\n",
            "98/98 [==============================] - 7s 74ms/step - loss: 0.0032 - val_loss: 0.0036\n",
            "Epoch 73/250\n",
            "98/98 [==============================] - 7s 74ms/step - loss: 0.0032 - val_loss: 0.0036\n",
            "Epoch 74/250\n",
            "98/98 [==============================] - 7s 74ms/step - loss: 0.0032 - val_loss: 0.0036\n",
            "Epoch 75/250\n",
            "98/98 [==============================] - 7s 73ms/step - loss: 0.0031 - val_loss: 0.0036\n",
            "Epoch 76/250\n",
            "98/98 [==============================] - 7s 74ms/step - loss: 0.0031 - val_loss: 0.0036\n",
            "Epoch 77/250\n",
            "98/98 [==============================] - 7s 73ms/step - loss: 0.0031 - val_loss: 0.0037\n",
            "Epoch 78/250\n",
            "98/98 [==============================] - 7s 73ms/step - loss: 0.0031 - val_loss: 0.0035\n",
            "Epoch 79/250\n",
            "98/98 [==============================] - 7s 74ms/step - loss: 0.0031 - val_loss: 0.0035\n",
            "Epoch 80/250\n",
            "98/98 [==============================] - 7s 74ms/step - loss: 0.0031 - val_loss: 0.0035\n",
            "Epoch 81/250\n",
            "98/98 [==============================] - 7s 73ms/step - loss: 0.0030 - val_loss: 0.0035\n",
            "Epoch 82/250\n",
            "98/98 [==============================] - 7s 73ms/step - loss: 0.0030 - val_loss: 0.0035\n",
            "Epoch 83/250\n",
            "98/98 [==============================] - 7s 73ms/step - loss: 0.0030 - val_loss: 0.0035\n",
            "Epoch 84/250\n",
            "98/98 [==============================] - 7s 73ms/step - loss: 0.0030 - val_loss: 0.0034\n",
            "Epoch 85/250\n",
            "98/98 [==============================] - 7s 73ms/step - loss: 0.0030 - val_loss: 0.0035\n",
            "Epoch 86/250\n",
            "98/98 [==============================] - 7s 74ms/step - loss: 0.0030 - val_loss: 0.0035\n",
            "Epoch 87/250\n",
            "98/98 [==============================] - 7s 75ms/step - loss: 0.0029 - val_loss: 0.0034\n",
            "Epoch 88/250\n",
            "98/98 [==============================] - 7s 73ms/step - loss: 0.0029 - val_loss: 0.0034\n",
            "Epoch 89/250\n",
            "98/98 [==============================] - 7s 73ms/step - loss: 0.0029 - val_loss: 0.0034\n",
            "Epoch 90/250\n",
            "98/98 [==============================] - 7s 74ms/step - loss: 0.0029 - val_loss: 0.0034\n",
            "Epoch 91/250\n",
            "98/98 [==============================] - 7s 73ms/step - loss: 0.0029 - val_loss: 0.0034\n",
            "Epoch 92/250\n",
            "98/98 [==============================] - 7s 74ms/step - loss: 0.0029 - val_loss: 0.0034\n",
            "Epoch 93/250\n",
            "98/98 [==============================] - 7s 73ms/step - loss: 0.0029 - val_loss: 0.0034\n",
            "Epoch 94/250\n",
            "98/98 [==============================] - 7s 73ms/step - loss: 0.0029 - val_loss: 0.0034\n",
            "Epoch 95/250\n",
            "98/98 [==============================] - 7s 73ms/step - loss: 0.0028 - val_loss: 0.0033\n",
            "Epoch 96/250\n",
            "98/98 [==============================] - 7s 74ms/step - loss: 0.0028 - val_loss: 0.0034\n",
            "Epoch 97/250\n",
            "98/98 [==============================] - 7s 73ms/step - loss: 0.0028 - val_loss: 0.0033\n",
            "Epoch 98/250\n",
            "98/98 [==============================] - 7s 73ms/step - loss: 0.0028 - val_loss: 0.0033\n",
            "Epoch 99/250\n",
            "98/98 [==============================] - 7s 73ms/step - loss: 0.0028 - val_loss: 0.0033\n",
            "Epoch 100/250\n",
            "98/98 [==============================] - 7s 73ms/step - loss: 0.0028 - val_loss: 0.0033\n",
            "Epoch 101/250\n",
            "98/98 [==============================] - 7s 73ms/step - loss: 0.0028 - val_loss: 0.0032\n",
            "Epoch 102/250\n",
            "98/98 [==============================] - 7s 74ms/step - loss: 0.0028 - val_loss: 0.0033\n",
            "Epoch 103/250\n",
            "98/98 [==============================] - 7s 73ms/step - loss: 0.0027 - val_loss: 0.0032\n",
            "Epoch 104/250\n",
            "98/98 [==============================] - 7s 73ms/step - loss: 0.0027 - val_loss: 0.0034\n",
            "Epoch 105/250\n",
            "98/98 [==============================] - 7s 73ms/step - loss: 0.0027 - val_loss: 0.0032\n",
            "Epoch 106/250\n",
            "98/98 [==============================] - 7s 73ms/step - loss: 0.0027 - val_loss: 0.0033\n",
            "Epoch 107/250\n",
            "98/98 [==============================] - 7s 73ms/step - loss: 0.0027 - val_loss: 0.0033\n",
            "Epoch 108/250\n",
            "98/98 [==============================] - 7s 74ms/step - loss: 0.0027 - val_loss: 0.0032\n",
            "Epoch 109/250\n",
            "98/98 [==============================] - 7s 74ms/step - loss: 0.0027 - val_loss: 0.0033\n",
            "Epoch 110/250\n",
            "98/98 [==============================] - 7s 73ms/step - loss: 0.0027 - val_loss: 0.0032\n",
            "Epoch 111/250\n",
            "98/98 [==============================] - 7s 73ms/step - loss: 0.0027 - val_loss: 0.0032\n",
            "Epoch 112/250\n",
            "98/98 [==============================] - 7s 73ms/step - loss: 0.0027 - val_loss: 0.0033\n",
            "Epoch 113/250\n",
            "98/98 [==============================] - 7s 75ms/step - loss: 0.0027 - val_loss: 0.0032\n",
            "Epoch 114/250\n",
            "98/98 [==============================] - 7s 73ms/step - loss: 0.0026 - val_loss: 0.0032\n",
            "Epoch 115/250\n",
            "98/98 [==============================] - 7s 74ms/step - loss: 0.0026 - val_loss: 0.0032\n",
            "Epoch 116/250\n",
            "98/98 [==============================] - 7s 73ms/step - loss: 0.0026 - val_loss: 0.0031\n",
            "Epoch 117/250\n",
            "98/98 [==============================] - 7s 73ms/step - loss: 0.0026 - val_loss: 0.0031\n",
            "Epoch 118/250\n",
            "98/98 [==============================] - 7s 73ms/step - loss: 0.0026 - val_loss: 0.0032\n",
            "Epoch 119/250\n",
            "98/98 [==============================] - 7s 74ms/step - loss: 0.0026 - val_loss: 0.0032\n",
            "Epoch 120/250\n",
            "98/98 [==============================] - 7s 73ms/step - loss: 0.0026 - val_loss: 0.0031\n",
            "Epoch 121/250\n",
            "98/98 [==============================] - 7s 73ms/step - loss: 0.0026 - val_loss: 0.0032\n",
            "Epoch 122/250\n",
            "98/98 [==============================] - 7s 74ms/step - loss: 0.0026 - val_loss: 0.0031\n",
            "Epoch 123/250\n",
            "98/98 [==============================] - 7s 73ms/step - loss: 0.0026 - val_loss: 0.0031\n",
            "Epoch 124/250\n",
            "98/98 [==============================] - 7s 73ms/step - loss: 0.0026 - val_loss: 0.0032\n",
            "Epoch 125/250\n",
            "98/98 [==============================] - 7s 74ms/step - loss: 0.0026 - val_loss: 0.0031\n",
            "Epoch 126/250\n",
            "98/98 [==============================] - 7s 73ms/step - loss: 0.0025 - val_loss: 0.0031\n",
            "Epoch 127/250\n",
            "98/98 [==============================] - 7s 73ms/step - loss: 0.0025 - val_loss: 0.0031\n",
            "Epoch 128/250\n",
            "98/98 [==============================] - 7s 74ms/step - loss: 0.0025 - val_loss: 0.0031\n",
            "Epoch 129/250\n",
            "98/98 [==============================] - 7s 75ms/step - loss: 0.0025 - val_loss: 0.0031\n",
            "Epoch 130/250\n",
            "98/98 [==============================] - 7s 75ms/step - loss: 0.0025 - val_loss: 0.0030\n",
            "Epoch 131/250\n",
            "98/98 [==============================] - 7s 74ms/step - loss: 0.0025 - val_loss: 0.0030\n",
            "Epoch 132/250\n",
            "98/98 [==============================] - 7s 74ms/step - loss: 0.0025 - val_loss: 0.0031\n",
            "Epoch 133/250\n",
            "98/98 [==============================] - 7s 74ms/step - loss: 0.0025 - val_loss: 0.0031\n",
            "Epoch 134/250\n",
            "98/98 [==============================] - 7s 73ms/step - loss: 0.0025 - val_loss: 0.0031\n",
            "Epoch 135/250\n",
            "98/98 [==============================] - 7s 73ms/step - loss: 0.0025 - val_loss: 0.0030\n",
            "Epoch 136/250\n",
            "98/98 [==============================] - 7s 74ms/step - loss: 0.0025 - val_loss: 0.0031\n",
            "Epoch 137/250\n",
            "98/98 [==============================] - 7s 74ms/step - loss: 0.0025 - val_loss: 0.0031\n",
            "Epoch 138/250\n",
            "98/98 [==============================] - 7s 74ms/step - loss: 0.0025 - val_loss: 0.0030\n",
            "Epoch 139/250\n",
            "98/98 [==============================] - 7s 74ms/step - loss: 0.0024 - val_loss: 0.0030\n",
            "Epoch 140/250\n",
            "98/98 [==============================] - 7s 73ms/step - loss: 0.0025 - val_loss: 0.0030\n",
            "Epoch 141/250\n",
            "98/98 [==============================] - 7s 74ms/step - loss: 0.0024 - val_loss: 0.0031\n",
            "Epoch 142/250\n",
            "98/98 [==============================] - 7s 74ms/step - loss: 0.0024 - val_loss: 0.0031\n",
            "Epoch 143/250\n",
            "98/98 [==============================] - 7s 74ms/step - loss: 0.0024 - val_loss: 0.0030\n",
            "Epoch 144/250\n",
            "98/98 [==============================] - 7s 74ms/step - loss: 0.0024 - val_loss: 0.0030\n",
            "Epoch 145/250\n",
            "98/98 [==============================] - 7s 74ms/step - loss: 0.0024 - val_loss: 0.0030\n",
            "Epoch 146/250\n",
            "98/98 [==============================] - 7s 73ms/step - loss: 0.0024 - val_loss: 0.0030\n",
            "Epoch 147/250\n",
            "98/98 [==============================] - 7s 73ms/step - loss: 0.0024 - val_loss: 0.0030\n",
            "Epoch 148/250\n",
            "98/98 [==============================] - 7s 74ms/step - loss: 0.0024 - val_loss: 0.0030\n",
            "Epoch 149/250\n",
            "98/98 [==============================] - 7s 73ms/step - loss: 0.0024 - val_loss: 0.0029\n",
            "Epoch 150/250\n",
            "98/98 [==============================] - 7s 74ms/step - loss: 0.0024 - val_loss: 0.0030\n",
            "Epoch 151/250\n",
            "98/98 [==============================] - 7s 73ms/step - loss: 0.0024 - val_loss: 0.0031\n",
            "Epoch 152/250\n",
            "98/98 [==============================] - 7s 74ms/step - loss: 0.0024 - val_loss: 0.0030\n",
            "Epoch 153/250\n",
            "98/98 [==============================] - 7s 73ms/step - loss: 0.0024 - val_loss: 0.0029\n",
            "Epoch 154/250\n",
            "98/98 [==============================] - 7s 73ms/step - loss: 0.0024 - val_loss: 0.0029\n",
            "Epoch 155/250\n",
            "98/98 [==============================] - 7s 74ms/step - loss: 0.0024 - val_loss: 0.0029\n",
            "Epoch 156/250\n",
            "98/98 [==============================] - 7s 74ms/step - loss: 0.0024 - val_loss: 0.0030\n",
            "Epoch 157/250\n",
            "98/98 [==============================] - 7s 73ms/step - loss: 0.0024 - val_loss: 0.0030\n",
            "Epoch 158/250\n",
            "98/98 [==============================] - 7s 74ms/step - loss: 0.0024 - val_loss: 0.0030\n",
            "Epoch 159/250\n",
            "98/98 [==============================] - 7s 74ms/step - loss: 0.0024 - val_loss: 0.0029\n",
            "Epoch 160/250\n",
            "98/98 [==============================] - 7s 73ms/step - loss: 0.0023 - val_loss: 0.0030\n",
            "Epoch 161/250\n",
            "98/98 [==============================] - 7s 74ms/step - loss: 0.0023 - val_loss: 0.0030\n",
            "Epoch 162/250\n",
            "98/98 [==============================] - 7s 73ms/step - loss: 0.0023 - val_loss: 0.0029\n",
            "Epoch 163/250\n",
            "98/98 [==============================] - 7s 74ms/step - loss: 0.0023 - val_loss: 0.0029\n",
            "Epoch 164/250\n",
            "98/98 [==============================] - 7s 73ms/step - loss: 0.0023 - val_loss: 0.0029\n",
            "Epoch 165/250\n",
            "98/98 [==============================] - 7s 73ms/step - loss: 0.0023 - val_loss: 0.0029\n",
            "Epoch 166/250\n",
            "98/98 [==============================] - 7s 73ms/step - loss: 0.0023 - val_loss: 0.0029\n",
            "Epoch 167/250\n",
            "98/98 [==============================] - 7s 74ms/step - loss: 0.0023 - val_loss: 0.0029\n",
            "Epoch 168/250\n",
            "98/98 [==============================] - 7s 73ms/step - loss: 0.0023 - val_loss: 0.0029\n",
            "Epoch 169/250\n",
            "98/98 [==============================] - 7s 73ms/step - loss: 0.0023 - val_loss: 0.0029\n",
            "Epoch 170/250\n",
            "98/98 [==============================] - 7s 73ms/step - loss: 0.0023 - val_loss: 0.0029\n",
            "Epoch 171/250\n",
            "98/98 [==============================] - 7s 74ms/step - loss: 0.0023 - val_loss: 0.0029\n",
            "Epoch 172/250\n",
            "98/98 [==============================] - 7s 75ms/step - loss: 0.0023 - val_loss: 0.0030\n",
            "Epoch 173/250\n",
            "98/98 [==============================] - 7s 75ms/step - loss: 0.0023 - val_loss: 0.0029\n",
            "Epoch 174/250\n",
            "98/98 [==============================] - 7s 73ms/step - loss: 0.0023 - val_loss: 0.0029\n"
          ],
          "name": "stdout"
        }
      ]
    },
    {
      "cell_type": "code",
      "metadata": {
        "id": "3o00moO45Y8F",
        "colab_type": "code",
        "outputId": "82f71bbe-2d98-4329-b37f-69b9d7a02551",
        "colab": {
          "base_uri": "https://localhost:8080/",
          "height": 425
        }
      },
      "source": [
        "plot_loss(history)\n",
        "\n",
        "scores = autoencoder.evaluate(x_test, x_test, verbose=2)\n",
        "print(\"test mse: %.5f\" % (scores))"
      ],
      "execution_count": 0,
      "outputs": [
        {
          "output_type": "stream",
          "text": [
            "313/313 - 1s - loss: 0.0029\n",
            "test mse: 0.00288\n"
          ],
          "name": "stdout"
        },
        {
          "output_type": "display_data",
          "data": {
            "image/png": "[encoded data removed]",
            "text/plain": [
              "<Figure size 720x432 with 1 Axes>"
            ]
          },
          "metadata": {
            "tags": [],
            "needs_background": "light"
          }
        }
      ]
    },
    {
      "cell_type": "code",
      "metadata": {
        "id": "wEmJTRwdFsle",
        "colab_type": "code",
        "outputId": "a20f9115-6956-4318-f6dd-fe12ba25d0c0",
        "colab": {
          "base_uri": "https://localhost:8080/",
          "height": 248
        }
      },
      "source": [
        "decoded_imgs = autoencoder.predict(x_test)\n",
        "\n",
        "plot_img(10, x_test, decoded_imgs)\n"
      ],
      "execution_count": 0,
      "outputs": [
        {
          "output_type": "display_data",
          "data": {
            "image/png": "[encoded data removed]",
            "text/plain": [
              "<Figure size 1440x288 with 20 Axes>"
            ]
          },
          "metadata": {
            "tags": [],
            "needs_background": "light"
          }
        }
      ]
    },
    {
      "cell_type": "markdown",
      "metadata": {
        "id": "AQMACpZHZP6S",
        "colab_type": "text"
      },
      "source": [
        "**Brief discussion**\n",
        "This deep autoencoder has seven hidden layers: four of them are the encoding part, the remaining three are the decoding part. The activation function I chose are Sigmoid, SeLU, SeLU, SeLU for the encoding part and the same (but in reverse order) for the decoding one. I made this choice after having tried combination of Sigmoid, Tahn and SeLU and I saw that, when using the Tanh function instead of Sigmoid or SeLU or both, I obtained more blurred images, although the test Mean Squared Error was similar.\n",
        "\n",
        "Also, I noticed that doubling the batch size gave me a performance increment, bringing the loss from about 0.004 to 0.00278\n",
        "\n",
        "In my opinion, the most rilevant part of this autoencoder is the size of the representation. In fact the final test MSE is 0.00278, which is like half of  the Shallow nonlinear one, but also the size of the representation is halved (only 60 parameters instead of 120). \n"
      ]
    },
    {
      "cell_type": "markdown",
      "metadata": {
        "id": "p55h0PXw5oI4",
        "colab_type": "text"
      },
      "source": [
        "## Exercise 5.4: Denoising Autoencoder\n",
        "\n",
        "Let's now use a shallow autoencoder to denoise the input data.\n",
        "Firstly, define a noisy input by adding some noise to our input data. We define a noise factor that can be used to modify the amount of noise to add to the input data, and to check how much it influences the denoising capability of the autoencoder."
      ]
    },
    {
      "cell_type": "code",
      "metadata": {
        "id": "UEgtUSt1531f",
        "colab_type": "code",
        "colab": {}
      },
      "source": [
        "(x_train, y_train), (x_test, y_test) = tf.keras.datasets.mnist.load_data()\n",
        "x_train = x_train.astype('float32') / 255\n",
        "x_test = x_test.astype('float32') / 255\n",
        "\n",
        "x_train = x_train.reshape((len(x_train), np.prod(x_train.shape[1:])))\n",
        "x_test = x_test.reshape((len(x_test), np.prod(x_test.shape[1:])))\n",
        "\n",
        "x_valid, y_valid = x_train[:10000],y_train[:10000]\n",
        "x_train, y_train = x_train[10000:],y_train[10000:]\n",
        "\n",
        "noise_factor = 0.3\n",
        "\n",
        "x_train_noisy = x_train + noise_factor + np.random.normal(loc=0.0, scale=1.0, size=x_train.shape)\n",
        "x_test_noisy = x_test + noise_factor + np.random.normal(loc=0.0, scale=1.0, size=x_test.shape)\n",
        "x_valid_noisy = x_valid + noise_factor + np.random.normal(loc=0.0, scale=1.0, size=x_valid.shape)\n",
        "\n",
        "\n",
        "x_train_noisy = np.clip(x_train_noisy, 0., 1.)\n",
        "x_test_noisy = np.clip(x_test_noisy, 0., 1.)\n",
        "x_valid_noisy = np.clip(x_valid_noisy, 0., 1.)"
      ],
      "execution_count": 0,
      "outputs": []
    },
    {
      "cell_type": "markdown",
      "metadata": {
        "id": "sjpSfN_ZQJge",
        "colab_type": "text"
      },
      "source": [
        "Plot some noisy inputs."
      ]
    },
    {
      "cell_type": "code",
      "metadata": {
        "id": "Yk_jtv-B6UrS",
        "colab_type": "code",
        "outputId": "97fed547-0aff-4412-e709-17ee1d2157b2",
        "colab": {
          "base_uri": "https://localhost:8080/",
          "height": 129
        }
      },
      "source": [
        "# here's what the noisy digits look like\n",
        "n = 10\n",
        "plt.figure(figsize=(20, 2))\n",
        "for i in range(n):\n",
        "    ax = plt.subplot(1, n, i + 1)\n",
        "    plt.imshow(x_test_noisy[i].reshape(28, 28))\n",
        "    plt.gray()\n",
        "    ax.get_xaxis().set_visible(False)\n",
        "    ax.get_yaxis().set_visible(False)\n",
        "plt.show()"
      ],
      "execution_count": 0,
      "outputs": [
        {
          "output_type": "display_data",
          "data": {
            "image/png": "[encoded data removed]",
            "text/plain": [
              "<Figure size 1440x144 with 10 Axes>"
            ]
          },
          "metadata": {
            "tags": [],
            "needs_background": "light"
          }
        }
      ]
    },
    {
      "cell_type": "markdown",
      "metadata": {
        "id": "l_i6Z8XfQ5iq",
        "colab_type": "text"
      },
      "source": [
        "**To_complete: use the same model defined in the exercise 5.3.**"
      ]
    },
    {
      "cell_type": "code",
      "metadata": {
        "id": "omRH5b-M6YA_",
        "colab_type": "code",
        "outputId": "fd7fe52a-cba4-4bec-afbb-b0a32176bba5",
        "colab": {
          "base_uri": "https://localhost:8080/",
          "height": 173
        }
      },
      "source": [
        "input_img = tf.keras.layers.Input(shape=(784,))\n",
        "\n",
        "autoencoder = deep_autoencoder(\n",
        "    [784,512,256,120,60],\n",
        "    input_img,\n",
        "    deep_nonlinear_encoder_activations,\n",
        "    deep_nonlinear_decoder_activations\n",
        "    )\n",
        "autoencoder.compile(optimizer='adam', loss='mse')\n"
      ],
      "execution_count": 0,
      "outputs": [
        {
          "output_type": "stream",
          "text": [
            "Encoder #0: (512, act: sigmoid)\n",
            "Encoder #1: (256, act: selu)\n",
            "Encoder #2: (120, act: selu)\n",
            "Encoder #3: (60, act: selu)\n",
            "---\n",
            "Decoder #0: (120, act: selu)\n",
            "Decoder #1: (256, act: selu)\n",
            "Decoder #2: (512, act: selu)\n",
            "Decoder #3: (784, act: sigmoid)\n"
          ],
          "name": "stdout"
        }
      ]
    },
    {
      "cell_type": "code",
      "metadata": {
        "id": "GgynPvZ4GUWh",
        "colab_type": "code",
        "outputId": "1a532b29-90b9-4bec-f54b-705ddb911cac",
        "colab": {
          "base_uri": "https://localhost:8080/",
          "height": 468
        }
      },
      "source": [
        "autoencoder.summary()"
      ],
      "execution_count": 0,
      "outputs": [
        {
          "output_type": "stream",
          "text": [
            "Model: \"model_7\"\n",
            "_________________________________________________________________\n",
            "Layer (type)                 Output Shape              Param #   \n",
            "=================================================================\n",
            "input_6 (InputLayer)         [(None, 784)]             0         \n",
            "_________________________________________________________________\n",
            "dense_12 (Dense)             (None, 512)               401920    \n",
            "_________________________________________________________________\n",
            "dense_13 (Dense)             (None, 256)               131328    \n",
            "_________________________________________________________________\n",
            "dense_14 (Dense)             (None, 120)               30840     \n",
            "_________________________________________________________________\n",
            "dense_15 (Dense)             (None, 60)                7260      \n",
            "_________________________________________________________________\n",
            "dense_16 (Dense)             (None, 120)               7320      \n",
            "_________________________________________________________________\n",
            "dense_17 (Dense)             (None, 256)               30976     \n",
            "_________________________________________________________________\n",
            "dense_18 (Dense)             (None, 512)               131584    \n",
            "_________________________________________________________________\n",
            "dense_19 (Dense)             (None, 784)               402192    \n",
            "=================================================================\n",
            "Total params: 1,143,420\n",
            "Trainable params: 1,143,420\n",
            "Non-trainable params: 0\n",
            "_________________________________________________________________\n"
          ],
          "name": "stdout"
        }
      ]
    },
    {
      "cell_type": "markdown",
      "metadata": {
        "id": "PRx4JtF_RGQz",
        "colab_type": "text"
      },
      "source": [
        "**To complete: Train the model by passing the noisy input and the clean target.**"
      ]
    },
    {
      "cell_type": "code",
      "metadata": {
        "id": "wMMPGQbO6lBY",
        "colab_type": "code",
        "outputId": "4ecd5a5d-a9fa-4862-8b52-6fc561b2a820",
        "colab": {
          "base_uri": "https://localhost:8080/",
          "height": 1000
        }
      },
      "source": [
        "history = autoencoder.fit(x_train_noisy, x_train, epochs=deep_epochs_number, callbacks=[tf.keras.callbacks.EarlyStopping(monitor='loss', patience=10)], batch_size=512, shuffle=True, validation_data=(x_valid_noisy, x_valid))"
      ],
      "execution_count": 0,
      "outputs": [
        {
          "output_type": "stream",
          "text": [
            "Epoch 1/250\n",
            "98/98 [==============================] - 7s 73ms/step - loss: 0.0743 - val_loss: 0.0663\n",
            "Epoch 2/250\n",
            "98/98 [==============================] - 7s 73ms/step - loss: 0.0662 - val_loss: 0.0597\n",
            "Epoch 3/250\n",
            "98/98 [==============================] - 7s 73ms/step - loss: 0.0545 - val_loss: 0.0491\n",
            "Epoch 4/250\n",
            "98/98 [==============================] - 7s 73ms/step - loss: 0.0473 - val_loss: 0.0453\n",
            "Epoch 5/250\n",
            "98/98 [==============================] - 7s 73ms/step - loss: 0.0438 - val_loss: 0.0420\n",
            "Epoch 6/250\n",
            "98/98 [==============================] - 7s 73ms/step - loss: 0.0418 - val_loss: 0.0407\n",
            "Epoch 7/250\n",
            "98/98 [==============================] - 7s 73ms/step - loss: 0.0402 - val_loss: 0.0396\n",
            "Epoch 8/250\n",
            "98/98 [==============================] - 7s 73ms/step - loss: 0.0388 - val_loss: 0.0388\n",
            "Epoch 9/250\n",
            "98/98 [==============================] - 7s 73ms/step - loss: 0.0378 - val_loss: 0.0377\n",
            "Epoch 10/250\n",
            "98/98 [==============================] - 7s 73ms/step - loss: 0.0369 - val_loss: 0.0369\n",
            "Epoch 11/250\n",
            "98/98 [==============================] - 7s 74ms/step - loss: 0.0360 - val_loss: 0.0363\n",
            "Epoch 12/250\n",
            "98/98 [==============================] - 7s 73ms/step - loss: 0.0354 - val_loss: 0.0360\n",
            "Epoch 13/250\n",
            "98/98 [==============================] - 7s 73ms/step - loss: 0.0347 - val_loss: 0.0354\n",
            "Epoch 14/250\n",
            "98/98 [==============================] - 7s 74ms/step - loss: 0.0342 - val_loss: 0.0353\n",
            "Epoch 15/250\n",
            "98/98 [==============================] - 7s 73ms/step - loss: 0.0336 - val_loss: 0.0347\n",
            "Epoch 16/250\n",
            "98/98 [==============================] - 7s 73ms/step - loss: 0.0331 - val_loss: 0.0343\n",
            "Epoch 17/250\n",
            "98/98 [==============================] - 7s 73ms/step - loss: 0.0326 - val_loss: 0.0337\n",
            "Epoch 18/250\n",
            "98/98 [==============================] - 7s 73ms/step - loss: 0.0321 - val_loss: 0.0332\n",
            "Epoch 19/250\n",
            "98/98 [==============================] - 7s 73ms/step - loss: 0.0318 - val_loss: 0.0333\n",
            "Epoch 20/250\n",
            "98/98 [==============================] - 7s 73ms/step - loss: 0.0313 - val_loss: 0.0330\n",
            "Epoch 21/250\n",
            "98/98 [==============================] - 7s 73ms/step - loss: 0.0310 - val_loss: 0.0326\n",
            "Epoch 22/250\n",
            "98/98 [==============================] - 7s 73ms/step - loss: 0.0306 - val_loss: 0.0325\n",
            "Epoch 23/250\n",
            "98/98 [==============================] - 7s 74ms/step - loss: 0.0302 - val_loss: 0.0323\n",
            "Epoch 24/250\n",
            "98/98 [==============================] - 7s 74ms/step - loss: 0.0298 - val_loss: 0.0326\n",
            "Epoch 25/250\n",
            "98/98 [==============================] - 7s 73ms/step - loss: 0.0296 - val_loss: 0.0321\n",
            "Epoch 26/250\n",
            "98/98 [==============================] - 7s 73ms/step - loss: 0.0293 - val_loss: 0.0322\n",
            "Epoch 27/250\n",
            "98/98 [==============================] - 7s 73ms/step - loss: 0.0289 - val_loss: 0.0320\n",
            "Epoch 28/250\n",
            "98/98 [==============================] - 7s 73ms/step - loss: 0.0286 - val_loss: 0.0318\n",
            "Epoch 29/250\n",
            "98/98 [==============================] - 7s 73ms/step - loss: 0.0282 - val_loss: 0.0316\n",
            "Epoch 30/250\n",
            "98/98 [==============================] - 7s 73ms/step - loss: 0.0279 - val_loss: 0.0320\n",
            "Epoch 31/250\n",
            "98/98 [==============================] - 7s 73ms/step - loss: 0.0276 - val_loss: 0.0316\n",
            "Epoch 32/250\n",
            "98/98 [==============================] - 7s 73ms/step - loss: 0.0273 - val_loss: 0.0318\n",
            "Epoch 33/250\n",
            "98/98 [==============================] - 7s 72ms/step - loss: 0.0270 - val_loss: 0.0318\n",
            "Epoch 34/250\n",
            "98/98 [==============================] - 7s 72ms/step - loss: 0.0267 - val_loss: 0.0314\n",
            "Epoch 35/250\n",
            "98/98 [==============================] - 7s 73ms/step - loss: 0.0264 - val_loss: 0.0315\n",
            "Epoch 36/250\n",
            "98/98 [==============================] - 7s 72ms/step - loss: 0.0261 - val_loss: 0.0315\n",
            "Epoch 37/250\n",
            "98/98 [==============================] - 7s 72ms/step - loss: 0.0258 - val_loss: 0.0318\n",
            "Epoch 38/250\n",
            "98/98 [==============================] - 7s 73ms/step - loss: 0.0254 - val_loss: 0.0316\n",
            "Epoch 39/250\n",
            "98/98 [==============================] - 7s 72ms/step - loss: 0.0252 - val_loss: 0.0315\n",
            "Epoch 40/250\n",
            "98/98 [==============================] - 7s 74ms/step - loss: 0.0248 - val_loss: 0.0320\n",
            "Epoch 41/250\n",
            "98/98 [==============================] - 7s 73ms/step - loss: 0.0246 - val_loss: 0.0319\n",
            "Epoch 42/250\n",
            "98/98 [==============================] - 7s 73ms/step - loss: 0.0243 - val_loss: 0.0322\n",
            "Epoch 43/250\n",
            "98/98 [==============================] - 7s 72ms/step - loss: 0.0240 - val_loss: 0.0324\n",
            "Epoch 44/250\n",
            "98/98 [==============================] - 7s 73ms/step - loss: 0.0237 - val_loss: 0.0320\n",
            "Epoch 45/250\n",
            "98/98 [==============================] - 7s 73ms/step - loss: 0.0235 - val_loss: 0.0323\n",
            "Epoch 46/250\n",
            "98/98 [==============================] - 7s 72ms/step - loss: 0.0231 - val_loss: 0.0321\n",
            "Epoch 47/250\n",
            "98/98 [==============================] - 7s 73ms/step - loss: 0.0229 - val_loss: 0.0322\n",
            "Epoch 48/250\n",
            "98/98 [==============================] - 7s 72ms/step - loss: 0.0229 - val_loss: 0.0326\n",
            "Epoch 49/250\n",
            "98/98 [==============================] - 7s 73ms/step - loss: 0.0223 - val_loss: 0.0326\n",
            "Epoch 50/250\n",
            "98/98 [==============================] - 7s 72ms/step - loss: 0.0221 - val_loss: 0.0324\n",
            "Epoch 51/250\n",
            "98/98 [==============================] - 7s 72ms/step - loss: 0.0219 - val_loss: 0.0326\n",
            "Epoch 52/250\n",
            "98/98 [==============================] - 7s 72ms/step - loss: 0.0216 - val_loss: 0.0330\n",
            "Epoch 53/250\n",
            "98/98 [==============================] - 7s 72ms/step - loss: 0.0214 - val_loss: 0.0330\n",
            "Epoch 54/250\n",
            "98/98 [==============================] - 7s 72ms/step - loss: 0.0211 - val_loss: 0.0329\n",
            "Epoch 55/250\n",
            "98/98 [==============================] - 7s 72ms/step - loss: 0.0210 - val_loss: 0.0335\n",
            "Epoch 56/250\n",
            "98/98 [==============================] - 7s 72ms/step - loss: 0.0209 - val_loss: 0.0331\n",
            "Epoch 57/250\n",
            "98/98 [==============================] - 7s 72ms/step - loss: 0.0206 - val_loss: 0.0336\n",
            "Epoch 58/250\n",
            "98/98 [==============================] - 7s 73ms/step - loss: 0.0204 - val_loss: 0.0337\n",
            "Epoch 59/250\n",
            "98/98 [==============================] - 7s 72ms/step - loss: 0.0202 - val_loss: 0.0346\n",
            "Epoch 60/250\n",
            "98/98 [==============================] - 7s 72ms/step - loss: 0.0200 - val_loss: 0.0338\n",
            "Epoch 61/250\n",
            "98/98 [==============================] - 7s 73ms/step - loss: 0.0198 - val_loss: 0.0340\n",
            "Epoch 62/250\n",
            "98/98 [==============================] - 7s 72ms/step - loss: 0.0195 - val_loss: 0.0345\n",
            "Epoch 63/250\n",
            "98/98 [==============================] - 7s 73ms/step - loss: 0.0195 - val_loss: 0.0346\n",
            "Epoch 64/250\n",
            "98/98 [==============================] - 7s 72ms/step - loss: 0.0193 - val_loss: 0.0342\n",
            "Epoch 65/250\n",
            "98/98 [==============================] - 7s 73ms/step - loss: 0.0191 - val_loss: 0.0344\n",
            "Epoch 66/250\n",
            "98/98 [==============================] - 7s 73ms/step - loss: 0.0188 - val_loss: 0.0350\n",
            "Epoch 67/250\n",
            "98/98 [==============================] - 7s 72ms/step - loss: 0.0188 - val_loss: 0.0346\n",
            "Epoch 68/250\n",
            "98/98 [==============================] - 7s 73ms/step - loss: 0.0187 - val_loss: 0.0346\n",
            "Epoch 69/250\n",
            "98/98 [==============================] - 7s 72ms/step - loss: 0.0185 - val_loss: 0.0351\n",
            "Epoch 70/250\n",
            "98/98 [==============================] - 7s 72ms/step - loss: 0.0184 - val_loss: 0.0353\n",
            "Epoch 71/250\n",
            "98/98 [==============================] - 7s 72ms/step - loss: 0.0182 - val_loss: 0.0353\n",
            "Epoch 72/250\n",
            "98/98 [==============================] - 7s 72ms/step - loss: 0.0181 - val_loss: 0.0353\n",
            "Epoch 73/250\n",
            "98/98 [==============================] - 7s 72ms/step - loss: 0.0178 - val_loss: 0.0357\n",
            "Epoch 74/250\n",
            "98/98 [==============================] - 7s 73ms/step - loss: 0.0178 - val_loss: 0.0355\n",
            "Epoch 75/250\n",
            "98/98 [==============================] - 7s 72ms/step - loss: 0.0176 - val_loss: 0.0363\n",
            "Epoch 76/250\n",
            "98/98 [==============================] - 7s 73ms/step - loss: 0.0175 - val_loss: 0.0360\n",
            "Epoch 77/250\n",
            "98/98 [==============================] - 7s 72ms/step - loss: 0.0174 - val_loss: 0.0362\n",
            "Epoch 78/250\n",
            "98/98 [==============================] - 7s 72ms/step - loss: 0.0172 - val_loss: 0.0365\n",
            "Epoch 79/250\n",
            "98/98 [==============================] - 7s 73ms/step - loss: 0.0171 - val_loss: 0.0361\n",
            "Epoch 80/250\n",
            "98/98 [==============================] - 7s 73ms/step - loss: 0.0170 - val_loss: 0.0366\n",
            "Epoch 81/250\n",
            "98/98 [==============================] - 7s 72ms/step - loss: 0.0169 - val_loss: 0.0369\n",
            "Epoch 82/250\n",
            "98/98 [==============================] - 7s 72ms/step - loss: 0.0169 - val_loss: 0.0367\n",
            "Epoch 83/250\n",
            "98/98 [==============================] - 7s 73ms/step - loss: 0.0167 - val_loss: 0.0367\n",
            "Epoch 84/250\n",
            "98/98 [==============================] - 7s 73ms/step - loss: 0.0166 - val_loss: 0.0368\n",
            "Epoch 85/250\n",
            "98/98 [==============================] - 7s 72ms/step - loss: 0.0164 - val_loss: 0.0369\n"
          ],
          "name": "stdout"
        }
      ]
    },
    {
      "cell_type": "code",
      "metadata": {
        "id": "FCw0jn077Wn9",
        "colab_type": "code",
        "colab": {}
      },
      "source": [
        "plot_loss(history)\n",
        "\n",
        "scores = autoencoder.evaluate(x_test_noisy, x_test, verbose=2)\n",
        "print(\"test mse: %.5f\" % (scores))"
      ],
      "execution_count": 0,
      "outputs": []
    },
    {
      "cell_type": "markdown",
      "metadata": {
        "id": "aHOQfAPZRYUY",
        "colab_type": "text"
      },
      "source": [
        "Check the result by plotting some input images and the correspondent denoised outputs"
      ]
    },
    {
      "cell_type": "code",
      "metadata": {
        "id": "XUWwHDT3HiGX",
        "colab_type": "code",
        "colab": {}
      },
      "source": [
        "decoded_imgs = autoencoder.predict(x_test_noisy)\n",
        "\n",
        "plot_img(10, x_test_noisy, decoded_imgs)"
      ],
      "execution_count": 0,
      "outputs": []
    },
    {
      "cell_type": "markdown",
      "metadata": {
        "id": "dqVjiCSrco3d",
        "colab_type": "text"
      },
      "source": [
        "**Brief discussion**\n",
        "Since I was forced to use the structure of the previous model, there is not much I could optimized for this task. However, I have to say that it's quite impressive how it manages to reconstruct, sometimes very well and sometimes less, the input which, at least to my eyes, looks totally unreadable. \n",
        "\n",
        "About the model, I noticed that it tends to overfit a lot more in this denoising task."
      ]
    },
    {
      "cell_type": "markdown",
      "metadata": {
        "id": "lInEGwkch5MW",
        "colab_type": "text"
      },
      "source": [
        "## Linear Autoencoder for sequences\n",
        "\n",
        "Let's define a linear autoencoder for sequences. In this case, as dataset, we will use the IMDB dataset (already presented in HW4). To have a model that can be trained and tested in a reasonable time (and that works also with the memory limitation that we have in Colab), we will limit the number of training samples and test samples."
      ]
    },
    {
      "cell_type": "code",
      "metadata": {
        "id": "nOJLUpNuaEc5",
        "colab_type": "code",
        "colab": {}
      },
      "source": [
        "num_words = 100\n",
        "(X_train, _), (X_test, _) = keras.datasets.imdb.load_data(num_words=num_words)\n",
        "\n",
        "X_train=X_train[:10000]\n",
        "\n",
        "(X_valid, X_test) = X_test[:1250], X_test[-1250:]\n",
        "\n",
        "word_index = keras.datasets.imdb.get_word_index()\n",
        "\n",
        "reverse_index = {word_id + 3: word for word, word_id in word_index.items()}\n",
        "reverse_index[0] = \"<pad>\" # padding\n",
        "reverse_index[1] = \"<sos>\" # start of sequence\n",
        "reverse_index[2] = \"<oov>\" # out-of-vocabulary\n",
        "reverse_index[3] = \"<unk>\" # unknown\n",
        "\n",
        "def decode_review(word_ids):\n",
        "    return \" \".join([reverse_index.get(word_id, \"<err>\") for word_id in word_ids])\n",
        "\n",
        "\n",
        "maxlen = 90\n",
        "X_train_trim = keras.preprocessing.sequence.pad_sequences(X_train, maxlen=maxlen)\n",
        "X_test_trim = keras.preprocessing.sequence.pad_sequences(X_test, maxlen=maxlen)\n",
        "X_valid_trim = keras.preprocessing.sequence.pad_sequences(X_valid, maxlen=maxlen)\n",
        "\n"
      ],
      "execution_count": 0,
      "outputs": []
    },
    {
      "cell_type": "markdown",
      "metadata": {
        "id": "LoXke75qeitM",
        "colab_type": "text"
      },
      "source": [
        "In this case, we want to use as input/target a one-hot representation for each word. To convert the index representation provided by the IMDB dataset loader, we use the to_categorical method to transform them in the correspondent one-hot representations."
      ]
    },
    {
      "cell_type": "code",
      "metadata": {
        "id": "Fpa0BwSxaXiw",
        "colab_type": "code",
        "colab": {}
      },
      "source": [
        "from keras.utils import to_categorical\n",
        "\n",
        "X_train_one_hot=to_categorical(X_train_trim)\n",
        "X_test_one_hot=to_categorical(X_test_trim)\n",
        "X_valid_one_hot=to_categorical(X_valid_trim)\n"
      ],
      "execution_count": 0,
      "outputs": []
    },
    {
      "cell_type": "markdown",
      "metadata": {
        "id": "gApoz_RFiciZ",
        "colab_type": "text"
      },
      "source": [
        "Define a linear shallow autoencoder for sequences. The structure will be similar to the model defined in exercise 5.1, while the encoding layer is defined by using tf.keras.layers.SimpleRNN. Note that it uses linear activations. The decoding layer exploits [tf.keras.layers.TimeDistributed](https://www.tensorflow.org/api_docs/python/tf/keras/layers/TimeDistributed) that allows using the same dense layer on each time step of the sequence. \n",
        "\n",
        "Since the output will be a one-hot representation, let's use the binary_crossentropy as loss and the CategoricalAccuracy as metric."
      ]
    },
    {
      "cell_type": "code",
      "metadata": {
        "id": "S69HgNmAicUp",
        "colab_type": "code",
        "colab": {}
      },
      "source": [
        "inputs = tf.keras.layers.Input(shape=(maxlen, num_words))\n",
        "encoded = tf.keras.layers.SimpleRNN(50, return_sequences=True, activation='linear')(inputs)\n",
        "\n",
        "decoded = tf.keras.layers.TimeDistributed(tf.keras.layers.Dense(num_words, activation='linear'))(encoded)\n",
        "\n",
        "sequence_autoencoder = tf.keras.models.Model(inputs, decoded)\n",
        "encoder = tf.keras.models.Model(inputs, encoded)\n",
        "\n",
        "sequence_autoencoder.compile(optimizer=tf.keras.optimizers.Adam(learning_rate=0.001), loss='binary_crossentropy', metrics=[\"CategoricalAccuracy\"])\n",
        "\n",
        "sequence_autoencoder.summary()"
      ],
      "execution_count": 0,
      "outputs": []
    },
    {
      "cell_type": "code",
      "metadata": {
        "id": "haFSyKBRjsWW",
        "colab_type": "code",
        "colab": {}
      },
      "source": [
        "history = sequence_autoencoder.fit(X_train_one_hot, X_train_one_hot, epochs=50, batch_size=128, shuffle=True, validation_data=(X_valid_one_hot, X_valid_one_hot))"
      ],
      "execution_count": 0,
      "outputs": []
    },
    {
      "cell_type": "markdown",
      "metadata": {
        "id": "UXgzgmSA-ZV-",
        "colab_type": "text"
      },
      "source": [
        "Let's plot the accuracy and the loss curves and check the reconstruction capability of the model by plotting the reconstruction of a test sample."
      ]
    },
    {
      "cell_type": "code",
      "metadata": {
        "id": "3N96nqx2nrt9",
        "colab_type": "code",
        "colab": {}
      },
      "source": [
        "def plot_categorical_accuracy(history):\n",
        "  plt.figure(figsize=(10,6))\n",
        "  plt.plot(history.epoch,history.history['categorical_accuracy'])\n",
        "  plt.plot(history.epoch,history.history['val_categorical_accuracy'])\n",
        "  plt.title('accuracy')\n",
        "\n",
        "plot_loss(history)\n",
        "\n",
        "plot_categorical_accuracy(history)\n",
        "\n",
        "scores = sequence_autoencoder.evaluate(X_test_one_hot, X_test_one_hot, verbose=2)\n",
        "print(\"%s: %.2f%%\" % (sequence_autoencoder.metrics_names[1], scores[1]*100))"
      ],
      "execution_count": 0,
      "outputs": []
    },
    {
      "cell_type": "code",
      "metadata": {
        "id": "CNQmY1kynxe7",
        "colab_type": "code",
        "colab": {}
      },
      "source": [
        "decoded_text = sequence_autoencoder.predict(X_test_one_hot)\n",
        "decode_index= np.argmax(decoded_text[500], axis=1)\n",
        "input_text= np.argmax(X_test_one_hot[500], axis=1)\n",
        "\n",
        "print(decode_review(input_text))\n",
        "print(decode_review(decode_index))"
      ],
      "execution_count": 0,
      "outputs": []
    },
    {
      "cell_type": "markdown",
      "metadata": {
        "id": "bW5BipraiQiE",
        "colab_type": "text"
      },
      "source": [
        "##Exercise 5.5: Non-Linear Autoencoder for sequences\n",
        "\n",
        "**To complete: Replicate the code of the exercise above, but instead of using a simpleRNN with linear activations do use non-linear activation functions and a LSTM layer. Choose the most appropriate non-linear function, and motivate your choice. Then discuss the results in relation to those obtained by the linear autoencoder for sequences.**\n",
        "\n",
        "**Hint: using a non-linear function also in the dense layer after the RNN/LSTM one will help to obtain better results. The choice of this function should be based on the type of output data.**\n"
      ]
    },
    {
      "cell_type": "code",
      "metadata": {
        "colab_type": "code",
        "id": "LgDeysZSbwwV",
        "colab": {}
      },
      "source": [
        "inputs = tf.keras.layers.Input(shape=(maxlen, num_words))\n",
        "encoded = tf.keras.layers.LSTM(50, activation='sigmoid', return_sequences=True)(inputs)\n",
        "\n",
        "decoded = tf.keras.layers.TimeDistributed(tf.keras.layers.Dense(num_words, activation='softmax'))(encoded)\n",
        "\n",
        "sequence_autoencoder = tf.keras.models.Model(inputs, decoded)\n",
        "encoder = tf.keras.models.Model(inputs, encoded)\n",
        "\n",
        "sequence_autoencoder.compile(optimizer=tf.keras.optimizers.Adam(learning_rate=0.001), loss='binary_crossentropy', metrics=[\"CategoricalAccuracy\"])\n",
        "\n",
        "sequence_autoencoder.summary()"
      ],
      "execution_count": 0,
      "outputs": []
    },
    {
      "cell_type": "code",
      "metadata": {
        "colab_type": "code",
        "id": "0j6S34o-b2Tw",
        "colab": {}
      },
      "source": [
        "history = sequence_autoencoder.fit(X_train_one_hot, X_train_one_hot, epochs=100, batch_size=256, shuffle=True, validation_data=(X_valid_one_hot, X_valid_one_hot))"
      ],
      "execution_count": 0,
      "outputs": []
    },
    {
      "cell_type": "code",
      "metadata": {
        "id": "VuNp1PLYb8QI",
        "colab_type": "code",
        "colab": {}
      },
      "source": [
        "plot_loss(history)\n",
        "\n",
        "plot_categorical_accuracy(history)\n",
        "\n",
        "scores = sequence_autoencoder.evaluate(X_test_one_hot, X_test_one_hot, verbose=2)\n",
        "print(\"%s: %.2f%%\" % (sequence_autoencoder.metrics_names[1], scores[1]*100))"
      ],
      "execution_count": 0,
      "outputs": []
    },
    {
      "cell_type": "code",
      "metadata": {
        "colab_type": "code",
        "id": "djjyolx2b_u4",
        "colab": {}
      },
      "source": [
        "decoded_text = sequence_autoencoder.predict(X_test_one_hot)\n",
        "decode_index= np.argmax(decoded_text[500], axis=1)\n",
        "input_text= np.argmax(X_test_one_hot[500], axis=1)\n",
        "\n",
        "print(decode_review(input_text))\n",
        "print(decode_review(decode_index))"
      ],
      "execution_count": 0,
      "outputs": []
    },
    {
      "cell_type": "markdown",
      "metadata": {
        "id": "Y33kdmAnxZfS",
        "colab_type": "text"
      },
      "source": [
        "Softmax as activation of the last layer because it is a classification problem. \n",
        "\n",
        "I also doubled the batch size (now it's 256) and doubled the number of epochs, since I saw that with 50 epochs the loss was still decrementing near the end. \n",
        "\n",
        "In regards of the comparison with the linear one, this model performs better BUT it is also more complex. In fact, since I used the same number of neurons as the linear model, but these are LSTM, the number of parameter of the nonlinear model is more or less tripled.\n"
      ]
    }
  ]
}